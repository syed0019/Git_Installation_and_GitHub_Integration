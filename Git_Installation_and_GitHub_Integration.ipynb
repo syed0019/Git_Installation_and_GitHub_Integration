{
 "cells": [
  {
   "cell_type": "markdown",
   "metadata": {},
   "source": [
    "## Git_Installation_and_GitHub_Integration"
   ]
  },
  {
   "cell_type": "markdown",
   "metadata": {},
   "source": [
    "In this project, we'll walk through the process of setting Git up on our own machine and authenticating with GitHub. Afterwards, we'll be able to sync the changes we make to data science projects locally with GitHub."
   ]
  },
  {
   "cell_type": "markdown",
   "metadata": {},
   "source": [
    "Installing Git only involves a few steps.\n",
    "\n",
    "- Navigate to the [Git downloads page](https://git-scm.com/downloads) and download the appropriate installer for your operating system.\n",
    "- Run the installer and step through the installation wizard.\n",
    "- Open the command line program (**Terminal** for Linux and Mac and **Command Prompt** for Windows) and run `git version`.\n",
    "\n",
    "If the output describes the current Git version and doesn't throw an error, then Git have been successfully installed!"
   ]
  },
  {
   "cell_type": "markdown",
   "metadata": {},
   "source": [
    "Now let's configure Git with your name and email address. Run the following shell command, but replace \"YOUR NAME\" with your actual name:\n",
    "\n",
    "```bash\n",
    "git config --global user.name \"YOUR NAME\"\n",
    "```"
   ]
  },
  {
   "cell_type": "markdown",
   "metadata": {},
   "source": [
    "Then, run the following shell command, but replace \"YOUR EMAIL ADDRESS\" with your actual email address:\n",
    "```bash\n",
    "git config --global user.email \"YOUR EMAIL ADDRESS\"\n",
    "```"
   ]
  },
  {
   "cell_type": "markdown",
   "metadata": {},
   "source": [
    "Use a Web browser to navigate to [GitHub](https://www.github.com/) and create an account. There are three main steps you'll have to complete:\n",
    "\n",
    "- Create a personal account. Select a unique username and password and enter your email.\n",
    "- Choose a plan. If you select the free plan, all of your code (which is organized in repositories) will be public. Select the free plan for now. You can always upgrade to a paid plan later on, which would allow you to have private repositories.\n",
    "- Read the GitHub [Hello World guide](https://guides.github.com/activities/hello-world/).\n",
    "\n",
    "Complete the instructions in step 1 of the Hello World guide to create your first repository on GitHub."
   ]
  },
  {
   "cell_type": "markdown",
   "metadata": {},
   "source": [
    "Now you need to authenticate your computer with GitHub so you can push code to your remote repositories. The easiest way to do this is to clone the repo you created on GitHub to your local computer. Click the __Clone or Download__ button on the repository page, and then click __Use HTTPS__ in the floating window to reveal the clone URL:\n",
    "\n",
    "<img src='image1.png'>\n",
    "    \n",
    "Then, run `git clone {url}` from the command line (replace `{url}` with the clone URL). Upon running this command, Git will download your repository to your local computer as a new folder (if there are any files in the repo). The local repo will be \"read-only\" in the sense that you won't be able to push your changes back to the remote repo. You will still able to modify files and commit changes locally.\n",
    "\n",
    "To verify that you can now push changes to your GitHub repo:\n",
    "\n",
    "- Create a branch (`git checkout -b testbranch`).\n",
    "- Make a small change (use `nano` if you want to edit a file from the command line).\n",
    "- Commit the change (`git commit -am 'test'`).\n",
    "- Push the branch to GitHub (`git push origin testbranch`).\n",
    "\n",
    "By default, you'll be asked to log in every time you run `git push`, `git pull`, or another Git command to the remote repository. You can use a credential helper to get around this, however. To learn more about this option, see the [GitHub documentation](https://help.github.com/articles/which-remote-url-should-i-use/#cloning-with-https-urls-recommended)."
   ]
  }
 ],
 "metadata": {
  "kernelspec": {
   "display_name": "Python 3",
   "language": "python",
   "name": "python3"
  },
  "language_info": {
   "codemirror_mode": {
    "name": "ipython",
    "version": 3
   },
   "file_extension": ".py",
   "mimetype": "text/x-python",
   "name": "python",
   "nbconvert_exporter": "python",
   "pygments_lexer": "ipython3",
   "version": "3.7.7"
  }
 },
 "nbformat": 4,
 "nbformat_minor": 4
}
